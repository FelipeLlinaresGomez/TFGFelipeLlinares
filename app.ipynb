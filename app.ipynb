{
 "cells": [
  {
   "cell_type": "code",
   "execution_count": null,
   "metadata": {},
   "outputs": [],
   "source": [
    "import locale\n",
    "import traceback\n",
    "import pymysql\n",
    "import dash\n",
    "from dash import html\n",
    "from dash.dependencies import Input, Output, State\n",
    "from rol_usuario_funciones import *\n",
    "from rol_administrador_funciones import *\n",
    "from layout import *\n",
    "from login import *\n",
    "\n",
    "# Setea la variable LC_ALL al conjunto de código UTF-8 con descripción español España\n",
    "locale.setlocale(locale.LC_ALL,'es_ES.UTF-8')\n",
    "\n",
    "external_stylesheets = [\"https://codepen.io/chriddyp/pen/bWLwgP.css\"]\n",
    "\n",
    "app = dash.Dash(__name__, external_stylesheets=external_stylesheets)\n",
    "server = app.server\n",
    "\n",
    "colors = {\"graphBackground\": \"#F5F5F5\", \"background\": \"#ffffff\", \"text\": \"#000000\"}\n",
    "\n",
    "not_uploaded_files = []\n",
    "uploaded_files = []"
   ]
  },
  {
   "cell_type": "markdown",
   "metadata": {},
   "source": [
    "Relizamos import de las librerías necesarias, creamos la app y procedemos con la llamada a la base de datos y la creación de las listas para los desplegables."
   ]
  },
  {
   "cell_type": "code",
   "execution_count": null,
   "metadata": {},
   "outputs": [],
   "source": [
    "#Creamos dataframe\n",
    "df = crear_dataframe()"
   ]
  },
  {
   "cell_type": "markdown",
   "metadata": {},
   "source": [
    "Una vez creados todos los desplegables, creamos el layout."
   ]
  },
  {
   "cell_type": "code",
   "execution_count": null,
   "metadata": {},
   "outputs": [],
   "source": [
    "app.layout =  html.Div(\n",
    "            children=[\n",
    "               generar_layout_usuario(df),\n",
    "               generar_layout_login(),\n",
    "               generar_layout_administrador(),\n",
    "               generar_layout_elegir_rol()\n",
    "            ],\n",
    "        )       "
   ]
  },
  {
   "cell_type": "markdown",
   "metadata": {},
   "source": [
    "Login"
   ]
  },
  {
   "cell_type": "code",
   "execution_count": null,
   "metadata": {},
   "outputs": [],
   "source": [
    "@app.callback(\n",
    "    Output(\"layout-login\", \"style\"),\n",
    "    Output(\"layout-usuario\", \"style\"),\n",
    "    Output(\"layout-administrador\", \"style\"),\n",
    "    Output(\"layout-elegir-rol\", \"style\"),\n",
    "    Output(\"login-error-message\", \"children\"),\n",
    "    Input(\"login-button\", \"n_clicks\"),\n",
    "    Input(\"elegir-usuario-button\", \"n_clicks\"),\n",
    "    Input(\"elegir-administrador-button\", \"n_clicks\"),\n",
    "    [\n",
    "        State(\"username-input\", \"value\"),\n",
    "        State(\"password-input\", \"value\")\n",
    "    ],\n",
    ")\n",
    "\n",
    "def login(n_clicks, n_clicks_rol_usuario, n_clicks_rol_administrador, username, password):    \n",
    "    if n_clicks and not n_clicks_rol_usuario and not n_clicks_rol_administrador:\n",
    "        \n",
    "        if comprobar_constraseña(username, password) == 1:\n",
    "            #Elegir rol visible\n",
    "            return {\"display\": \"none\"}, {\"display\": \"none\"}, {\"display\": \"none\"}, {\"display\": \"block\"},\"\"\n",
    "        elif comprobar_constraseña(username, password) == 0:\n",
    "            #Rol usuario visible\n",
    "            return {\"display\": \"none\"}, {\"display\": \"block\"}, {\"display\": \"none\"}, {\"display\": \"none\"},\"\"\n",
    "        else:\n",
    "            #Mostramos error en login\n",
    "            return {\"display\": \"block\"}, {\"display\": \"none\"}, {\"display\": \"none\"}, {\"display\": \"none\"},\"Los datos introducidos no son válidos.\"\n",
    "        \n",
    "    elif n_clicks_rol_usuario:\n",
    "        #Rol usuario visible\n",
    "        return {\"display\": \"none\"}, {\"display\": \"block\"}, {\"display\": \"none\"}, {\"display\": \"none\"},\"\"\n",
    "    \n",
    "    elif n_clicks_rol_administrador:\n",
    "        #Rol administrador visible\n",
    "        return {\"display\": \"none\"}, {\"display\": \"none\"}, {\"display\": \"block\"}, {\"display\": \"none\"},\"\"\n",
    "    \n",
    "    else:\n",
    "        #Nos quedamos en login\n",
    "        return {\"display\": \"block\"}, {\"display\": \"none\"}, {\"display\": \"none\"}, {\"display\": \"none\"},\"\"\n"
   ]
  },
  {
   "cell_type": "markdown",
   "metadata": {},
   "source": [
    "Creamos las funciones callback necesarias para rol usuario."
   ]
  },
  {
   "cell_type": "code",
   "execution_count": null,
   "metadata": {},
   "outputs": [],
   "source": [
    "@app.callback(\n",
    "    [\n",
    "        Output(\"map\", \"children\"),\n",
    "        Output(\"output-data-1\", \"children\"),\n",
    "        Output(\"output-data-2\", \"children\"),\n",
    "        Output(\"output-data-3\", \"children\"),\n",
    "        Output(\"output-data-4\", \"children\"),\n",
    "        Output(\"output-data-message\", \"children\"),\n",
    "        Output(\"output-data-message-mapa\", \"children\")\n",
    "    ],\n",
    "    [\n",
    "        Input(\"dropdownTramos\", \"value\"),\n",
    "        Input(\"dropdownMeses\", \"value\"),\n",
    "        Input(\"dropdownAnios\", \"value\"),\n",
    "        Input(\"dropdownTipos\", \"value\"),\n",
    "        Input(\"dropdownModus\", \"value\"),\n",
    "        Input(\"dropdownCalificacion\", \"value\"),\n",
    "        Input(\"dropdownDistrito\", \"value\"),\n",
    "    ],\n",
    ")\n",
    "\n",
    "def upload_and_write_data(dropdownTramo, dropdownMes, dropdownAnio, dropdownTipo, dropdownModus, dropdownCalificacion, dropdownDistrito):\n",
    "    return generar_figuras(df, dropdownTramo, dropdownMes, dropdownAnio, dropdownTipo, dropdownModus, dropdownCalificacion, dropdownDistrito)\n",
    "\n",
    "\n",
    "@app.callback(\n",
    "    Output(\"informe-output-message\", \"children\"),\n",
    "    Input(\"generar-informe-button\", \"n_clicks\"),\n",
    "    [\n",
    "        State(\"dropdownTramos\", \"value\"),\n",
    "        State(\"dropdownMeses\", \"value\"),\n",
    "        State(\"dropdownAnios\", \"value\"),\n",
    "        State(\"dropdownTipos\", \"value\"),\n",
    "        State(\"dropdownModus\", \"value\"),\n",
    "        State(\"dropdownCalificacion\", \"value\"),\n",
    "        State(\"dropdownDistrito\", \"value\"),\n",
    "    ],\n",
    ")\n",
    "\n",
    "def generar_informe(n_clicks, dropdownTramo, dropdownMes, dropdownAnio, dropdownTipo, dropdownModus, dropdownCalificacion, dropdownDistrito):\n",
    "    if n_clicks:\n",
    "        return generar_informe_pdf(df, n_clicks, dropdownTramo, dropdownMes, dropdownAnio, dropdownTipo, dropdownModus, dropdownCalificacion, dropdownDistrito)\n"
   ]
  },
  {
   "cell_type": "markdown",
   "metadata": {},
   "source": [
    "Creamos las funciones callback necesarias para rol administrador."
   ]
  },
  {
   "cell_type": "code",
   "execution_count": null,
   "metadata": {},
   "outputs": [],
   "source": [
    "@app.callback(\n",
    "    Output(\"output-data-not-upload\", \"children\"),\n",
    "    Input(\"upload-data\", \"filename\"),\n",
    "    Input(\"upload-data\", \"contents\")\n",
    ")\n",
    "\n",
    "def upload_file(filename, contents):\n",
    "    if filename is not None:\n",
    "        divs = [\n",
    "            html.Div([\n",
    "                f\"El archivo {file} ha sido subido.\",\n",
    "                #html.Button('Delete file', id=f'cancel-{file}', style={'display': 'inline-block', 'marginLeft': '10px'}, n_clicks=0),\n",
    "            ]) \n",
    "        for file in filename]\n",
    "\n",
    "\n",
    "        return divs\n",
    "    else:\n",
    "        return html.Div([\"Ningún archivo ha sido subido.\"])\n",
    "    \n",
    "@app.callback(\n",
    "    Output(\"output-data-upload\", \"children\"),\n",
    "    Input(\"submit-button\", \"n_clicks\"), \n",
    "    State(\"upload-data\", \"filename\"),\n",
    "    State(\"upload-data\", \"contents\"),\n",
    "    #*[State(f'cancel-{file}', 'n_clicks') for file in not_uploaded_files]\n",
    ")\n",
    "\n",
    "def upload_and_write_data(n_clicks, filenames, contents):\n",
    "    try:\n",
    "        if(n_clicks > 0):\n",
    "            listdenuncias = []\n",
    "            if contents is not None:\n",
    "                listdenuncias = insert_data(contents)\n",
    "\n",
    "                # Return a message indicating that the data was written to the database\n",
    "                for index, file in enumerate(filenames):\n",
    "                    if listdenuncias[index] == 0:\n",
    "                        not_uploaded_files.append(file)\n",
    "                    else:\n",
    "                        uploaded_files.append(file)\n",
    "                        \n",
    "                divs = [html.Div([f\"El archivo {file} ha sido resgitrado con éxito en la base de datos.\"]) for file in uploaded_files]\n",
    "                divs2 = [html.Div([f\"El archivo {file} NO CONTIENE LAS CABECERAS ADECUADAS.\"]) for file in not_uploaded_files]\n",
    "                return divs + divs2\n",
    "    except pymysql.err.InterfaceError as e:\n",
    "        print(e)\n",
    "        traceback.print_exc()\n",
    "        return html.Div([\"Ha habido un error estableciendo la conexión con la base de datos, disculpe las molestias.\"])\n",
    "    except Exception as e:\n",
    "        print(e)\n",
    "        traceback.print_exc()\n",
    "        return html.Div([\"Ha habido un error procesando los datos, disculpe las molestias.\"])"
   ]
  },
  {
   "cell_type": "markdown",
   "metadata": {},
   "source": [
    "Por último, ejecutamos la aplicación"
   ]
  },
  {
   "cell_type": "code",
   "execution_count": 14,
   "metadata": {},
   "outputs": [],
   "source": [
    "app.run_server(port=\"8051\")"
   ]
  }
 ],
 "metadata": {
  "kernelspec": {
   "display_name": "TFG3.9",
   "language": "python",
   "name": "python3"
  },
  "language_info": {
   "codemirror_mode": {
    "name": "ipython",
    "version": 3
   },
   "file_extension": ".py",
   "mimetype": "text/x-python",
   "name": "python",
   "nbconvert_exporter": "python",
   "pygments_lexer": "ipython3",
   "version": "3.10.6"
  },
  "orig_nbformat": 4
 },
 "nbformat": 4,
 "nbformat_minor": 2
}
